{
  "nbformat": 4,
  "nbformat_minor": 0,
  "metadata": {
    "colab": {
      "private_outputs": true,
      "provenance": [],
      "authorship_tag": "ABX9TyOT/gxnnLaLls32QM5fjD8o",
      "include_colab_link": true
    },
    "kernelspec": {
      "name": "python3",
      "display_name": "Python 3"
    },
    "language_info": {
      "name": "python"
    }
  },
  "cells": [
    {
      "cell_type": "markdown",
      "metadata": {
        "id": "view-in-github",
        "colab_type": "text"
      },
      "source": [
        "<a href=\"https://colab.research.google.com/github/kangwonlee/fdm_example/blob/main/fdm_si.ipynb\" target=\"_parent\"><img src=\"https://colab.research.google.com/assets/colab-badge.svg\" alt=\"Open In Colab\"/></a>"
      ]
    },
    {
      "cell_type": "markdown",
      "source": [
        "## Sample Python code simulating the behavior of a doped semiconductor using FDM:\n",
        "### AskUp\n",
        "\n",
        "This code simulates the behavior of a Si substrate with a doping profile of P impurities. It solves Poisson's equation and the continuity equation using FDM to calculate the electric potential and the electron and hole concentrations in the substrate. The simulation results are then plotted as a function of depth. Note that this is just a simple example, and more complex simulations may involve additional material properties and equations.\n",
        "___\n",
        "### ChatGPT\n",
        "\n",
        "The code is trying to solve the continuity equations for electrons and holes, as well as Poisson's equation for the electric potential, in a semiconductor device with a doping profile. The semiconductor is assumed to be a p-n junction, with one side doped with acceptors (p-type) and the other side doped with donors (n-type).\n",
        "\n",
        "The continuity equations describe how the concentration of electrons and holes change over time, and are given by:\n",
        "\n",
        "$\\frac{\\partial n}{\\partial t} = \\nabla \\cdot (D_n \\nabla n) + G - R$\n",
        "\n",
        "$\\frac{\\partial p}{\\partial t} = \\nabla \\cdot (D_p \\nabla p) + G - R$\n",
        "\n",
        "where $n$ and $p$ are the electron and hole concentrations, $D_n$ and $D_p$ are their diffusion coefficients, $G$ is the generation rate of electron-hole pairs, and $R$ is the recombination rate.\n",
        "\n",
        "Poisson's equation describes the relationship between the electric potential and the charge density, and is given by:\n",
        "\n",
        "$\\nabla^2 V = -\\frac{\\rho}{\\epsilon}$\n",
        "\n",
        "where $V$ is the electric potential, $\\rho$ is the charge density, and $\\epsilon$ is the permittivity of the material.\n",
        "\n",
        "The simulation calculates the electric potential using Poisson's equation, and then uses the resulting potential to calculate the electron and hole concentrations using the continuity equations. The simulation then iterates over time to update the electric potential and the electron and hole concentrations until the simulation time is complete. Finally, the simulation results are plotted to show the concentration profiles of electrons and holes as a function of depth in the semiconductor.\n",
        "___\n",
        "### Partial Differential Equation and Partial Difference Equation\n",
        "\n",
        "The code is implementing the Finite Difference Method (FDM) to solve a set of partial difference equations. The partial difference equations for electron and hole concentrations are discretized versions of the continuity equation:\n",
        "\n",
        "$\\frac{\\partial n}{\\partial t} = \\frac{1}{q}\\frac{\\partial J_n}{\\partial x} + G_{n} - R_{n}$\n",
        "\n",
        "$\\frac{\\partial p}{\\partial t} = \\frac{1}{q}\\frac{\\partial J_p}{\\partial x} + G_{p} - R_{p}$\n",
        "\n",
        "where $n$ and $p$ are the electron and hole concentrations, $J_n$ and $J_p$ are the electron and hole currents, $G_n$ and $G_p$ are the generation rates of electrons and holes, and $R_n$ and $R_p$ are the recombination rates of electrons and holes.\n",
        "\n",
        "Using forward differences for the time derivative and central differences for the spatial derivative, we can discretize the continuity equation as:\n",
        "\n",
        "$\\frac{n_i^{k+1} - n_i^k}{\\Delta t} = \\frac{1}{q}\\frac{J_{n,i+1}^k - J_{n,i-1}^k}{2\\Delta x} + G_{n,i} - R_{n,i}$\n",
        "\n",
        "$\\frac{p_i^{k+1} - p_i^k}{\\Delta t} = \\frac{1}{q}\\frac{J_{p,i+1}^k - J_{p,i-1}^k}{2\\Delta x} + G_{p,i} - R_{p,i}$\n",
        "\n",
        "where $n_i^k$ and $p_i^k$ are the electron and hole concentrations at grid point $i$ and time step $k$, $J_{n,i}^k$ and $J_{p,i}^k$ are the electron and hole currents at grid point $i$ and time step $k$, and $G_{n,i}$, $G_{p,i}$, $R_{n,i}$, and $R_{p,i}$ are the generation and recombination rates at grid point $i$.\n",
        "\n",
        "Next, we can discretize Poisson's equation using central differences for the second spatial derivative:\n",
        "\n",
        "$\\frac{\\partial^2 V}{\\partial x^2} = -\\frac{\\rho}{\\epsilon}$\n",
        "\n",
        "$\\frac{V_{i+1} - 2V_i + V_{i-1}}{\\Delta x^2} = -\\frac{\\rho_i}{\\epsilon}$\n",
        "\n",
        "where $V_i$ is the electric potential at grid point $i$, $\\rho_i$ is the charge density at grid point $i$, and $\\epsilon$ is the permittivity of the material.\n",
        "\n",
        "Finally, we can solve for the unknowns $n_i^{k+1}$, $p_i^{k+1}$, and $V_i$ using the discretized equations above, along with appropriate boundary conditions.\n"
      ],
      "metadata": {
        "id": "gUbh6qhf3cS5"
      }
    },
    {
      "cell_type": "code",
      "execution_count": null,
      "metadata": {
        "id": "en-LhPfL3cS9"
      },
      "outputs": [],
      "source": [
        "import numpy as np\n",
        "\n",
        "# Define simulation parameters\n",
        "dx = 1e-9  # grid spacing in meters\n",
        "dt = 1e-12  # time step in seconds\n",
        "t_total = 1e-9  # total simulation time in seconds\n",
        "V_bias = 1  # applied bias in volts\n",
        "\n",
        "# Define material properties\n",
        "eps0 = 8.854e-12  # vacuum permittivity\n",
        "eps_r = 11.68  # relative permittivity of Si\n",
        "q = 1.602e-19  # elementary charge\n",
        "k_B = 1.38e-23  # Boltzmann constant\n",
        "\n",
        "# Define doping profile\n",
        "N_d = 1e18  # doping concentration in cm^-3\n",
        "x_d = 200e-9  # depth of doping profile in meters\n",
        "N = N_d * np.exp(-np.arange(0, x_d, dx) / x_d)  # doping profile in cm^-3\n",
        "\n",
        "# Initialize simulation variables\n",
        "V = np.zeros(N.shape)  # electric potential in volts\n",
        "n = np.zeros(N.shape)  # electron concentration in cm^-3\n",
        "p = np.zeros(N.shape)  # hole concentration in cm^-3\n",
        "\n",
        "# Define boundary conditions\n",
        "V[0] = V_bias\n",
        "n[0] = N_d\n",
        "p[0] = 0\n",
        "n[-1] = 0\n",
        "p[-1] = N_d\n",
        "\n",
        "# Define FDM coefficients\n",
        "a = eps0 * eps_r / dx**2\n",
        "b = q / eps0 / eps_r\n",
        "c = dx**2 / q / eps0 / eps_r / k_B\n",
        "\n",
        "# Perform simulation\n",
        "for t in np.arange(0, t_total, dt):\n",
        "    # Calculate electric potential using Poisson's equation\n",
        "    V[1:-1] = (a * (V[0:-2] + V[2:]) + b * (N[1:-1] - n[1:-1] + p[1:-1])) / (2 * a + b * dx**2)\n",
        "\n",
        "    # Calculate electron and hole concentrations using continuity equation\n",
        "    n[1:-1] = n[1:-1] + dt * (N[1:-1] * np.exp((V[1:-1] - V_bias) / (k_B * c)) - n[1:-1] / c) / dx\n",
        "    p[1:-1] = p[1:-1] + dt * (N[1:-1] * np.exp(-(V[1:-1] - V_bias) / (k_B * c)) - p[1:-1] / c) / dx\n",
        "\n",
        "# Plot simulation results\n",
        "import matplotlib.pyplot as plt\n",
        "plt.plot(np.arange(0, x_d, dx) * 1e9, n, label='n')\n",
        "plt.plot(np.arange(0, x_d, dx) * 1e9, p, label='p')\n",
        "plt.xlabel('Depth (nm)')\n",
        "plt.ylabel('Concentration (cm^-3)')\n",
        "plt.legend()\n",
        "plt.show()\n"
      ]
    }
  ]
}