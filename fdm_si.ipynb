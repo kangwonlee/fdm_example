{
  "nbformat": 4,
  "nbformat_minor": 0,
  "metadata": {
    "colab": {
      "private_outputs": true,
      "provenance": [],
      "authorship_tag": "ABX9TyM0IKC0o8xhZVpsK90C9KCo",
      "include_colab_link": true
    },
    "kernelspec": {
      "name": "python3",
      "display_name": "Python 3"
    },
    "language_info": {
      "name": "python"
    }
  },
  "cells": [
    {
      "cell_type": "markdown",
      "metadata": {
        "id": "view-in-github",
        "colab_type": "text"
      },
      "source": [
        "<a href=\"https://colab.research.google.com/github/kangwonlee/fdm_example/blob/main/fdm_si.ipynb\" target=\"_parent\"><img src=\"https://colab.research.google.com/assets/colab-badge.svg\" alt=\"Open In Colab\"/></a>"
      ]
    },
    {
      "cell_type": "markdown",
      "source": [
        "## Sample Python code simulating the behavior of a doped semiconductor using FDM:\n",
        "* AskUp\n",
        "\n",
        "This code simulates the behavior of a Si substrate with a doping profile of P impurities. It solves Poisson's equation and the continuity equation using FDM to calculate the electric potential and the electron and hole concentrations in the substrate. The simulation results are then plotted as a function of depth. Note that this is just a simple example, and more complex simulations may involve additional material properties and equations."
      ],
      "metadata": {
        "id": "g78gCumG0uw2"
      }
    },
    {
      "cell_type": "code",
      "execution_count": null,
      "metadata": {
        "id": "ycIIZDmjzvnu"
      },
      "outputs": [],
      "source": [
        "import numpy as np\n",
        "\n",
        "# Define simulation parameters\n",
        "dx = 1e-9  # grid spacing in meters\n",
        "dt = 1e-12  # time step in seconds\n",
        "t_total = 1e-9  # total simulation time in seconds\n",
        "V_bias = 1  # applied bias in volts\n",
        "\n",
        "# Define material properties\n",
        "eps0 = 8.854e-12  # vacuum permittivity\n",
        "eps_r = 11.68  # relative permittivity of Si\n",
        "q = 1.602e-19  # elementary charge\n",
        "k_B = 1.38e-23  # Boltzmann constant\n",
        "\n",
        "# Define doping profile\n",
        "N_d = 1e18  # doping concentration in cm^-3\n",
        "x_d = 200e-9  # depth of doping profile in meters\n",
        "N = N_d * np.exp(-np.arange(0, x_d, dx) / x_d)  # doping profile in cm^-3\n",
        "\n",
        "# Initialize simulation variables\n",
        "V = np.zeros(N.shape)  # electric potential in volts\n",
        "n = np.zeros(N.shape)  # electron concentration in cm^-3\n",
        "p = np.zeros(N.shape)  # hole concentration in cm^-3\n",
        "\n",
        "# Define boundary conditions\n",
        "V[0] = V_bias\n",
        "n[0] = N_d\n",
        "p[0] = 0\n",
        "n[-1] = 0\n",
        "p[-1] = N_d\n",
        "\n",
        "# Define FDM coefficients\n",
        "a = eps0 * eps_r / dx**2\n",
        "b = q / eps0 / eps_r\n",
        "c = dx**2 / q / eps0 / eps_r / k_B\n",
        "\n",
        "# Perform simulation\n",
        "for t in np.arange(0, t_total, dt):\n",
        "    # Calculate electric potential using Poisson's equation\n",
        "    V[1:-1] = (a * (V[0:-2] + V[2:]) + b * (N[1:-1] - n[1:-1] + p[1:-1])) / (2 * a + b * dx**2)\n",
        "\n",
        "    # Calculate electron and hole concentrations using continuity equation\n",
        "    n[1:-1] = n[1:-1] + dt * (N[1:-1] * np.exp((V[1:-1] - V_bias) / (k_B * c)) - n[1:-1] / c) / dx\n",
        "    p[1:-1] = p[1:-1] + dt * (N[1:-1] * np.exp(-(V[1:-1] - V_bias) / (k_B * c)) - p[1:-1] / c) / dx\n",
        "\n",
        "# Plot simulation results\n",
        "import matplotlib.pyplot as plt\n",
        "plt.plot(np.arange(0, x_d, dx) * 1e9, n, label='n')\n",
        "plt.plot(np.arange(0, x_d, dx) * 1e9, p, label='p')\n",
        "plt.xlabel('Depth (nm)')\n",
        "plt.ylabel('Concentration (cm^-3)')\n",
        "plt.legend()\n",
        "plt.show()\n"
      ]
    }
  ]
}